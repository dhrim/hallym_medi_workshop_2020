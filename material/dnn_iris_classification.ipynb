{
  "nbformat": 4,
  "nbformat_minor": 0,
  "metadata": {
    "colab": {
      "name": "dnn_iris_classification.ipynb",
      "provenance": [],
      "collapsed_sections": []
    },
    "kernelspec": {
      "name": "python3",
      "display_name": "Python 3"
    }
  },
  "cells": [
    {
      "cell_type": "markdown",
      "metadata": {
        "id": "giMgHzNY8861",
        "colab_type": "text"
      },
      "source": [
        "# IRIS 데이터 분류"
      ]
    },
    {
      "cell_type": "code",
      "metadata": {
        "id": "ID7lfGHi8g6u",
        "colab_type": "code",
        "colab": {
          "base_uri": "https://localhost:8080/",
          "height": 62
        },
        "outputId": "044f93bb-4981-4f26-a2dd-8da48c0bf2f5"
      },
      "source": [
        "import numpy as np\n",
        "import pandas as pd\n",
        "import matplotlib.pyplot as plt\n",
        "\n",
        "import tensorflow as tf\n",
        "\n",
        "from tensorflow import keras\n",
        "from tensorflow.keras import optimizers\n",
        "from tensorflow.keras.layers import Dense"
      ],
      "execution_count": 1,
      "outputs": [
        {
          "output_type": "display_data",
          "data": {
            "text/html": [
              "<p style=\"color: red;\">\n",
              "The default version of TensorFlow in Colab will soon switch to TensorFlow 2.x.<br>\n",
              "We recommend you <a href=\"https://www.tensorflow.org/guide/migrate\" target=\"_blank\">upgrade</a> now \n",
              "or ensure your notebook will continue to use TensorFlow 1.x via the <code>%tensorflow_version 1.x</code> magic:\n",
              "<a href=\"https://colab.research.google.com/notebooks/tensorflow_version.ipynb\" target=\"_blank\">more info</a>.</p>\n"
            ],
            "text/plain": [
              "<IPython.core.display.HTML object>"
            ]
          },
          "metadata": {
            "tags": []
          }
        }
      ]
    },
    {
      "cell_type": "code",
      "metadata": {
        "id": "is1Jygwv8leP",
        "colab_type": "code",
        "colab": {
          "base_uri": "https://localhost:8080/",
          "height": 202
        },
        "outputId": "2170a5b2-3b22-47bb-a5e8-72e987e64fe7"
      },
      "source": [
        "!wget https://raw.githubusercontent.com/dhrim/hallym_medi_workshop_2020/master/material/iris.csv"
      ],
      "execution_count": 23,
      "outputs": [
        {
          "output_type": "stream",
          "text": [
            "--2019-10-31 08:50:31--  https://raw.githubusercontent.com/dhrim/hallym_medi_workshop_2020_university/master/material/iris.csv\n",
            "Resolving github.com (github.com)... 192.30.253.112\n",
            "Connecting to github.com (github.com)|192.30.253.112|:443... connected.\n",
            "HTTP request sent, awaiting response... 200 OK\n",
            "Length: unspecified [text/html]\n",
            "Saving to: ‘iris.csv.1’\n",
            "\n",
            "\riris.csv.1              [<=>                 ]       0  --.-KB/s               \riris.csv.1              [ <=>                ] 103.90K   579KB/s    in 0.2s    \n",
            "\n",
            "2019-10-31 08:50:32 (579 KB/s) - ‘iris.csv.1’ saved [106389]\n",
            "\n"
          ],
          "name": "stdout"
        }
      ]
    },
    {
      "cell_type": "code",
      "metadata": {
        "id": "J1fqqYEm8n2t",
        "colab_type": "code",
        "colab": {
          "base_uri": "https://localhost:8080/",
          "height": 195
        },
        "outputId": "1b9cb3b3-0e1f-4f6e-f0a5-d024cfd391b2"
      },
      "source": [
        "iris = pd.read_csv(\"iris.csv\")\n",
        "iris.head()"
      ],
      "execution_count": 3,
      "outputs": [
        {
          "output_type": "execute_result",
          "data": {
            "text/html": [
              "<div>\n",
              "<style scoped>\n",
              "    .dataframe tbody tr th:only-of-type {\n",
              "        vertical-align: middle;\n",
              "    }\n",
              "\n",
              "    .dataframe tbody tr th {\n",
              "        vertical-align: top;\n",
              "    }\n",
              "\n",
              "    .dataframe thead th {\n",
              "        text-align: right;\n",
              "    }\n",
              "</style>\n",
              "<table border=\"1\" class=\"dataframe\">\n",
              "  <thead>\n",
              "    <tr style=\"text-align: right;\">\n",
              "      <th></th>\n",
              "      <th>septal_length</th>\n",
              "      <th>septal_width</th>\n",
              "      <th>petal_length</th>\n",
              "      <th>petal_width</th>\n",
              "      <th>setosa</th>\n",
              "      <th>versicolor</th>\n",
              "      <th>virginica</th>\n",
              "    </tr>\n",
              "  </thead>\n",
              "  <tbody>\n",
              "    <tr>\n",
              "      <th>0</th>\n",
              "      <td>6.4</td>\n",
              "      <td>2.8</td>\n",
              "      <td>5.6</td>\n",
              "      <td>2.2</td>\n",
              "      <td>0</td>\n",
              "      <td>0</td>\n",
              "      <td>1</td>\n",
              "    </tr>\n",
              "    <tr>\n",
              "      <th>1</th>\n",
              "      <td>5.0</td>\n",
              "      <td>2.3</td>\n",
              "      <td>3.3</td>\n",
              "      <td>1.0</td>\n",
              "      <td>0</td>\n",
              "      <td>1</td>\n",
              "      <td>0</td>\n",
              "    </tr>\n",
              "    <tr>\n",
              "      <th>2</th>\n",
              "      <td>4.9</td>\n",
              "      <td>2.5</td>\n",
              "      <td>4.5</td>\n",
              "      <td>1.7</td>\n",
              "      <td>0</td>\n",
              "      <td>0</td>\n",
              "      <td>1</td>\n",
              "    </tr>\n",
              "    <tr>\n",
              "      <th>3</th>\n",
              "      <td>4.9</td>\n",
              "      <td>3.1</td>\n",
              "      <td>1.5</td>\n",
              "      <td>0.1</td>\n",
              "      <td>1</td>\n",
              "      <td>0</td>\n",
              "      <td>0</td>\n",
              "    </tr>\n",
              "    <tr>\n",
              "      <th>4</th>\n",
              "      <td>5.7</td>\n",
              "      <td>3.8</td>\n",
              "      <td>1.7</td>\n",
              "      <td>0.3</td>\n",
              "      <td>1</td>\n",
              "      <td>0</td>\n",
              "      <td>0</td>\n",
              "    </tr>\n",
              "  </tbody>\n",
              "</table>\n",
              "</div>"
            ],
            "text/plain": [
              "   septal_length  septal_width  petal_length  ...  setosa  versicolor  virginica\n",
              "0            6.4           2.8           5.6  ...       0           0          1\n",
              "1            5.0           2.3           3.3  ...       0           1          0\n",
              "2            4.9           2.5           4.5  ...       0           0          1\n",
              "3            4.9           3.1           1.5  ...       1           0          0\n",
              "4            5.7           3.8           1.7  ...       1           0          0\n",
              "\n",
              "[5 rows x 7 columns]"
            ]
          },
          "metadata": {
            "tags": []
          },
          "execution_count": 3
        }
      ]
    },
    {
      "cell_type": "code",
      "metadata": {
        "id": "y5G66SaI8rKZ",
        "colab_type": "code",
        "colab": {
          "base_uri": "https://localhost:8080/",
          "height": 218
        },
        "outputId": "b093d750-c022-4c8e-84c7-1e33a5508bab"
      },
      "source": [
        "iris.info()"
      ],
      "execution_count": 4,
      "outputs": [
        {
          "output_type": "stream",
          "text": [
            "<class 'pandas.core.frame.DataFrame'>\n",
            "RangeIndex: 120 entries, 0 to 119\n",
            "Data columns (total 7 columns):\n",
            "septal_length    120 non-null float64\n",
            "septal_width     120 non-null float64\n",
            "petal_length     120 non-null float64\n",
            "petal_width      120 non-null float64\n",
            "setosa           120 non-null int64\n",
            "versicolor       120 non-null int64\n",
            "virginica        120 non-null int64\n",
            "dtypes: float64(4), int64(3)\n",
            "memory usage: 6.7 KB\n"
          ],
          "name": "stdout"
        }
      ]
    },
    {
      "cell_type": "code",
      "metadata": {
        "id": "4-ZtqXYD8s1O",
        "colab_type": "code",
        "colab": {
          "base_uri": "https://localhost:8080/",
          "height": 118
        },
        "outputId": "1df721b6-7f06-4475-c857-8f110ea13ca3"
      },
      "source": [
        "data = iris.to_numpy()\n",
        "print(data.shape)\n",
        "print(data[:5])"
      ],
      "execution_count": 5,
      "outputs": [
        {
          "output_type": "stream",
          "text": [
            "(120, 7)\n",
            "[[6.4 2.8 5.6 2.2 0.  0.  1. ]\n",
            " [5.  2.3 3.3 1.  0.  1.  0. ]\n",
            " [4.9 2.5 4.5 1.7 0.  0.  1. ]\n",
            " [4.9 3.1 1.5 0.1 1.  0.  0. ]\n",
            " [5.7 3.8 1.7 0.3 1.  0.  0. ]]\n"
          ],
          "name": "stdout"
        }
      ]
    },
    {
      "cell_type": "code",
      "metadata": {
        "id": "YUqZeQAm8s3t",
        "colab_type": "code",
        "colab": {}
      },
      "source": [
        "x = data[:,:4]\n",
        "y = data[:,4:]\n",
        "\n",
        "split_index = 100\n",
        "\n",
        "train_x, test_x = x[:split_index], x[split_index:]\n",
        "train_y, test_y = y[:split_index], y[split_index:]"
      ],
      "execution_count": 0,
      "outputs": []
    },
    {
      "cell_type": "code",
      "metadata": {
        "id": "Q9PVE6VJ8s9V",
        "colab_type": "code",
        "colab": {
          "base_uri": "https://localhost:8080/",
          "height": 87
        },
        "outputId": "14c2f8e2-2a5e-4858-f8e7-1d5351262c08"
      },
      "source": [
        "model = keras.Sequential([\n",
        "    keras.layers.Dense(10, activation='relu', input_shape=(4,)),\n",
        "    keras.layers.Dense(10, activation='relu'),\n",
        "    keras.layers.Dense(3, activation='softmax')\n",
        "])"
      ],
      "execution_count": 8,
      "outputs": [
        {
          "output_type": "stream",
          "text": [
            "WARNING:tensorflow:From /usr/local/lib/python3.6/dist-packages/tensorflow_core/python/ops/resource_variable_ops.py:1630: calling BaseResourceVariable.__init__ (from tensorflow.python.ops.resource_variable_ops) with constraint is deprecated and will be removed in a future version.\n",
            "Instructions for updating:\n",
            "If using Keras pass *_constraint arguments to layers.\n"
          ],
          "name": "stdout"
        }
      ]
    },
    {
      "cell_type": "code",
      "metadata": {
        "id": "7gWZl5rG8s6k",
        "colab_type": "code",
        "colab": {}
      },
      "source": [
        "model.compile(optimizer='adam',\n",
        "              loss='categorical_crossentropy',\n",
        "              metrics=['accuracy'])"
      ],
      "execution_count": 0,
      "outputs": []
    },
    {
      "cell_type": "code",
      "metadata": {
        "id": "ncEY6nOd80X8",
        "colab_type": "code",
        "colab": {
          "base_uri": "https://localhost:8080/",
          "height": 34
        },
        "outputId": "bfad8337-d333-4e89-d423-34216e6155ac"
      },
      "source": [
        "model.fit(train_x, train_y, epochs=200, verbose=0)"
      ],
      "execution_count": 10,
      "outputs": [
        {
          "output_type": "execute_result",
          "data": {
            "text/plain": [
              "<tensorflow.python.keras.callbacks.History at 0x7f304ae24278>"
            ]
          },
          "metadata": {
            "tags": []
          },
          "execution_count": 10
        }
      ]
    },
    {
      "cell_type": "code",
      "metadata": {
        "id": "3dOxrqlB82OM",
        "colab_type": "code",
        "colab": {
          "base_uri": "https://localhost:8080/",
          "height": 67
        },
        "outputId": "31fc2c55-9cac-4914-b9a3-5ce027740f9d"
      },
      "source": [
        "loss, acc = model.evaluate(test_x, test_y)\n",
        "\n",
        "print(\"loss :\", loss)\n",
        "print(\"acc :\", acc)\n"
      ],
      "execution_count": 11,
      "outputs": [
        {
          "output_type": "stream",
          "text": [
            "\r20/20 [==============================] - 0s 1ms/sample - loss: 0.2412 - acc: 1.0000\n",
            "loss : 0.24123017489910126\n",
            "acc : 1.0\n"
          ],
          "name": "stdout"
        }
      ]
    },
    {
      "cell_type": "code",
      "metadata": {
        "id": "UpHP3Ds884OT",
        "colab_type": "code",
        "colab": {
          "base_uri": "https://localhost:8080/",
          "height": 370
        },
        "outputId": "177dcbaf-0331-421c-dfbc-67a2cea0d62b"
      },
      "source": [
        "y_ = model.predict(test_x)\n",
        "print(y_)\n",
        "print(np.argmax(y_, axis=1))"
      ],
      "execution_count": 12,
      "outputs": [
        {
          "output_type": "stream",
          "text": [
            "[[9.4675004e-01 5.1995926e-02 1.2540402e-03]\n",
            " [1.1876517e-01 6.1807477e-01 2.6316002e-01]\n",
            " [8.6213022e-01 1.3151714e-01 6.3526374e-03]\n",
            " [4.9846917e-02 6.2370300e-01 3.2645014e-01]\n",
            " [9.5701075e-01 4.2085130e-02 9.0417569e-04]\n",
            " [9.6784490e-01 3.1598702e-02 5.5637251e-04]\n",
            " [9.7669744e-01 2.2967035e-02 3.3555808e-04]\n",
            " [9.7676861e-01 2.2844575e-02 3.8683796e-04]\n",
            " [1.2112507e-01 6.4469701e-01 2.3417790e-01]\n",
            " [9.4437760e-01 5.4257322e-02 1.3650210e-03]\n",
            " [3.6754555e-03 3.5867235e-01 6.3765222e-01]\n",
            " [4.3571014e-02 5.9176946e-01 3.6465961e-01]\n",
            " [9.3128091e-01 6.6959947e-02 1.7590373e-03]\n",
            " [5.6186947e-04 1.8141085e-01 8.1802726e-01]\n",
            " [9.5600921e-01 4.2997289e-02 9.9351408e-04]\n",
            " [1.9257912e-02 5.0040311e-01 4.8033890e-01]\n",
            " [6.1326943e-02 6.1938787e-01 3.1928524e-01]\n",
            " [9.4534898e-01 5.3105272e-02 1.5457054e-03]\n",
            " [9.5196491e-01 4.6941001e-02 1.0940519e-03]\n",
            " [5.6843273e-02 6.1880773e-01 3.2434905e-01]]\n",
            "[0 1 0 1 0 0 0 0 1 0 2 1 0 2 0 1 1 0 0 1]\n"
          ],
          "name": "stdout"
        }
      ]
    },
    {
      "cell_type": "markdown",
      "metadata": {
        "id": "BSRas3Po_ZO3",
        "colab_type": "text"
      },
      "source": [
        "# loss categorical_crossentropy\n",
        "\n",
        "2가지 crossentropy 사용 방법\n",
        "- categorical_crossentropy\n",
        "- sparse_categorical_crossentropy\n",
        "\n",
        "## categorical_crossentropy\n",
        "y의 값이 one hot encoding인 경우\n",
        "```\n",
        "1,0,0\n",
        "0,1,0\n",
        "0,0,1\n",
        "```\n",
        "\n",
        "출력 레이어 설정\n",
        "```\n",
        "model.add(Dense(3, activation=\"softmax\")) # 출력 레이어\n",
        "```\n",
        "\n",
        "loss 설정\n",
        "```\n",
        "model.compile(..., loss='categorical_crossentropy')\n",
        "```\n",
        "\n",
        "\n",
        "## sparse_categorical_crossentropy\n",
        "y의 값이 one hot encoding인 경우\n",
        "```\n",
        "0\n",
        "1\n",
        "2\n",
        "```\n",
        "\n",
        "출력 레이어 설정\n",
        "```\n",
        "model.add(Dense(3, activation=\"softmax\")) # 출력 레이어. 1이 아니라 클래스 수 3\n",
        "```\n",
        "\n",
        "loss 설정\n",
        "```\n",
        "model.compile(..., loss='sparse_categorical_crossentropy')\n",
        "```\n"
      ]
    },
    {
      "cell_type": "markdown",
      "metadata": {
        "id": "TS6kKsxs_dS9",
        "colab_type": "text"
      },
      "source": [
        "# iris_dnn with category index\n",
        "\n",
        "아래의 코드는 iris_dnn_and_optimizer.ipynb의 코드를 기반으로 한다.\n"
      ]
    },
    {
      "cell_type": "code",
      "metadata": {
        "id": "ROWsFbJ5852r",
        "colab_type": "code",
        "colab": {
          "base_uri": "https://localhost:8080/",
          "height": 202
        },
        "outputId": "03a5c3dc-1118-4980-8382-bbe5836b2ce9"
      },
      "source": [
        "!wget https://raw.githubusercontent.com/dhrim/hallym_medi_workshop_2020/master/material/iris_with_category_index.csv"
      ],
      "execution_count": 24,
      "outputs": [
        {
          "output_type": "stream",
          "text": [
            "--2019-10-31 08:51:03--  https://raw.githubusercontent.com/dhrim/hallym_medi_workshop_2020/master/material/iris_with_category_index.csv\n",
            "Resolving github.com (github.com)... 192.30.253.112\n",
            "Connecting to github.com (github.com)|192.30.253.112|:443... connected.\n",
            "HTTP request sent, awaiting response... 200 OK\n",
            "Length: unspecified [text/html]\n",
            "Saving to: ‘iris_with_category_index.csv.1’\n",
            "\n",
            "\r          iris_with     [<=>                 ]       0  --.-KB/s               \riris_with_category_     [ <=>                ]  96.18K   562KB/s    in 0.2s    \n",
            "\n",
            "2019-10-31 08:51:04 (562 KB/s) - ‘iris_with_category_index.csv.1’ saved [98492]\n",
            "\n"
          ],
          "name": "stdout"
        }
      ]
    },
    {
      "cell_type": "code",
      "metadata": {
        "id": "9OuplbOU_ls3",
        "colab_type": "code",
        "colab": {
          "base_uri": "https://localhost:8080/",
          "height": 195
        },
        "outputId": "1a4df116-ead4-4722-a7f5-387ceafb3192"
      },
      "source": [
        "iris = pd.read_csv(\"iris_with_category_index.csv\")\n",
        "iris.head()"
      ],
      "execution_count": 14,
      "outputs": [
        {
          "output_type": "execute_result",
          "data": {
            "text/html": [
              "<div>\n",
              "<style scoped>\n",
              "    .dataframe tbody tr th:only-of-type {\n",
              "        vertical-align: middle;\n",
              "    }\n",
              "\n",
              "    .dataframe tbody tr th {\n",
              "        vertical-align: top;\n",
              "    }\n",
              "\n",
              "    .dataframe thead th {\n",
              "        text-align: right;\n",
              "    }\n",
              "</style>\n",
              "<table border=\"1\" class=\"dataframe\">\n",
              "  <thead>\n",
              "    <tr style=\"text-align: right;\">\n",
              "      <th></th>\n",
              "      <th>septal_length</th>\n",
              "      <th>septal_width</th>\n",
              "      <th>petal_length</th>\n",
              "      <th>petal_width</th>\n",
              "      <th>class</th>\n",
              "    </tr>\n",
              "  </thead>\n",
              "  <tbody>\n",
              "    <tr>\n",
              "      <th>0</th>\n",
              "      <td>6.4</td>\n",
              "      <td>2.8</td>\n",
              "      <td>5.6</td>\n",
              "      <td>2.2</td>\n",
              "      <td>2</td>\n",
              "    </tr>\n",
              "    <tr>\n",
              "      <th>1</th>\n",
              "      <td>5.0</td>\n",
              "      <td>2.3</td>\n",
              "      <td>3.3</td>\n",
              "      <td>1.0</td>\n",
              "      <td>1</td>\n",
              "    </tr>\n",
              "    <tr>\n",
              "      <th>2</th>\n",
              "      <td>4.9</td>\n",
              "      <td>2.5</td>\n",
              "      <td>4.5</td>\n",
              "      <td>1.7</td>\n",
              "      <td>2</td>\n",
              "    </tr>\n",
              "    <tr>\n",
              "      <th>3</th>\n",
              "      <td>4.9</td>\n",
              "      <td>3.1</td>\n",
              "      <td>1.5</td>\n",
              "      <td>0.1</td>\n",
              "      <td>0</td>\n",
              "    </tr>\n",
              "    <tr>\n",
              "      <th>4</th>\n",
              "      <td>5.7</td>\n",
              "      <td>3.8</td>\n",
              "      <td>1.7</td>\n",
              "      <td>0.3</td>\n",
              "      <td>0</td>\n",
              "    </tr>\n",
              "  </tbody>\n",
              "</table>\n",
              "</div>"
            ],
            "text/plain": [
              "   septal_length  septal_width  petal_length  petal_width  class\n",
              "0            6.4           2.8           5.6          2.2      2\n",
              "1            5.0           2.3           3.3          1.0      1\n",
              "2            4.9           2.5           4.5          1.7      2\n",
              "3            4.9           3.1           1.5          0.1      0\n",
              "4            5.7           3.8           1.7          0.3      0"
            ]
          },
          "metadata": {
            "tags": []
          },
          "execution_count": 14
        }
      ]
    },
    {
      "cell_type": "code",
      "metadata": {
        "id": "pTZ0g9Ax_mMf",
        "colab_type": "code",
        "colab": {
          "base_uri": "https://localhost:8080/",
          "height": 118
        },
        "outputId": "22847fe0-f0f8-411c-c182-33fe808f003b"
      },
      "source": [
        "data = iris.to_numpy()\n",
        "print(data.shape)\n",
        "print(data[:5])"
      ],
      "execution_count": 15,
      "outputs": [
        {
          "output_type": "stream",
          "text": [
            "(120, 5)\n",
            "[[6.4 2.8 5.6 2.2 2. ]\n",
            " [5.  2.3 3.3 1.  1. ]\n",
            " [4.9 2.5 4.5 1.7 2. ]\n",
            " [4.9 3.1 1.5 0.1 0. ]\n",
            " [5.7 3.8 1.7 0.3 0. ]]\n"
          ],
          "name": "stdout"
        }
      ]
    },
    {
      "cell_type": "code",
      "metadata": {
        "id": "u30kuIr0_mWC",
        "colab_type": "code",
        "colab": {
          "base_uri": "https://localhost:8080/",
          "height": 84
        },
        "outputId": "d1c3dd35-469c-4760-c4d5-5460b6b5f339"
      },
      "source": [
        "x = data[:,:4]\n",
        "y = data[:,4:]\n",
        "\n",
        "split_index = 100\n",
        "\n",
        "train_x, test_x = x[:split_index], x[split_index:]\n",
        "train_y, test_y = y[:split_index], y[split_index:]\n",
        "\n",
        "print(train_x.shape)\n",
        "print(train_y.shape)\n",
        "print(test_x.shape)\n",
        "print(test_y.shape)"
      ],
      "execution_count": 16,
      "outputs": [
        {
          "output_type": "stream",
          "text": [
            "(100, 4)\n",
            "(100, 1)\n",
            "(20, 4)\n",
            "(20, 1)\n"
          ],
          "name": "stdout"
        }
      ]
    },
    {
      "cell_type": "code",
      "metadata": {
        "id": "S-wBUWBH_mTQ",
        "colab_type": "code",
        "colab": {
          "base_uri": "https://localhost:8080/",
          "height": 302
        },
        "outputId": "59f55941-4480-4fce-a1ae-1b8fb902d54f"
      },
      "source": [
        "model = keras.Sequential()\n",
        "model.add(Dense(10, activation='relu', input_shape=(4,)))\n",
        "model.add(Dense(10, activation='relu'))\n",
        "model.add(Dense(3, activation=\"softmax\")) # 1이 아니고 클래스 수 3이다\n",
        "\n",
        "# model.compile(optimizer=\"SGD\", loss=\"categorical_crossentropy\", metrics=[\"accuracy\"])\n",
        "model.compile(optimizer=\"SGD\", loss=\"sparse_categorical_crossentropy\", metrics=[\"accuracy\"])\n",
        "model.summary()\n",
        "\n",
        "model.fit(train_x, train_y, epochs=1000, verbose=0, batch_size=20)\n",
        "\n",
        "loss, acc = model.evaluate(test_x, test_y)\n",
        "print(\"loss=\", loss)\n",
        "print(\"acc=\", acc)\n",
        "              \n"
      ],
      "execution_count": 17,
      "outputs": [
        {
          "output_type": "stream",
          "text": [
            "Model: \"sequential_1\"\n",
            "_________________________________________________________________\n",
            "Layer (type)                 Output Shape              Param #   \n",
            "=================================================================\n",
            "dense_3 (Dense)              (None, 10)                50        \n",
            "_________________________________________________________________\n",
            "dense_4 (Dense)              (None, 10)                110       \n",
            "_________________________________________________________________\n",
            "dense_5 (Dense)              (None, 3)                 33        \n",
            "=================================================================\n",
            "Total params: 193\n",
            "Trainable params: 193\n",
            "Non-trainable params: 0\n",
            "_________________________________________________________________\n",
            "20/20 [==============================] - 0s 993us/sample - loss: 0.0285 - acc: 1.0000\n",
            "loss= 0.0285267885774374\n",
            "acc= 1.0\n"
          ],
          "name": "stdout"
        }
      ]
    },
    {
      "cell_type": "code",
      "metadata": {
        "id": "AzXyJg3__mQE",
        "colab_type": "code",
        "colab": {
          "base_uri": "https://localhost:8080/",
          "height": 370
        },
        "outputId": "35014dce-59c8-4c58-c67e-04e3731d6b0b"
      },
      "source": [
        "y_ = model.predict(test_x)\n",
        "print(y_)\n",
        "print(np.argmax(y_, axis=1))"
      ],
      "execution_count": 18,
      "outputs": [
        {
          "output_type": "stream",
          "text": [
            "[[9.9847895e-01 1.5210088e-03 4.5079189e-09]\n",
            " [7.1596866e-03 9.9086952e-01 1.9708150e-03]\n",
            " [9.9177718e-01 8.2226470e-03 1.9085897e-07]\n",
            " [1.7808938e-03 9.9626130e-01 1.9578552e-03]\n",
            " [9.9816018e-01 1.8398253e-03 2.5156170e-09]\n",
            " [9.9949753e-01 5.0242577e-04 4.2559187e-10]\n",
            " [9.9964392e-01 3.5612666e-04 1.3917446e-10]\n",
            " [9.9955636e-01 4.4367142e-04 2.7504904e-10]\n",
            " [5.8740983e-03 9.9345410e-01 6.7182042e-04]\n",
            " [9.9732506e-01 2.6749109e-03 7.9555695e-09]\n",
            " [3.5226320e-05 2.9203004e-01 7.0793480e-01]\n",
            " [8.7943545e-04 9.9254745e-01 6.5730447e-03]\n",
            " [9.9737787e-01 2.6221694e-03 7.8952507e-09]\n",
            " [1.9786397e-07 1.1047671e-02 9.8895210e-01]\n",
            " [9.9767703e-01 2.3229336e-03 2.8835097e-09]\n",
            " [3.8833439e-04 8.5834104e-01 1.4127065e-01]\n",
            " [1.0061844e-03 9.9612695e-01 2.8669678e-03]\n",
            " [9.9682742e-01 3.1725289e-03 2.0459108e-08]\n",
            " [9.9863285e-01 1.3670946e-03 4.2263233e-09]\n",
            " [3.1925670e-03 9.9468994e-01 2.1175381e-03]]\n",
            "[0 1 0 1 0 0 0 0 1 0 2 1 0 2 0 1 1 0 0 1]\n"
          ],
          "name": "stdout"
        }
      ]
    },
    {
      "cell_type": "code",
      "metadata": {
        "id": "VhrTS4Zb_u8G",
        "colab_type": "code",
        "colab": {}
      },
      "source": [
        ""
      ],
      "execution_count": 0,
      "outputs": []
    }
  ]
}