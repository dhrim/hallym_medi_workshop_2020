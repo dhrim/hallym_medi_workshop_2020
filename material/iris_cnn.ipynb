{
  "nbformat": 4,
  "nbformat_minor": 0,
  "metadata": {
    "colab": {
      "name": "iris_cnn.ipynb",
      "provenance": [],
      "collapsed_sections": []
    },
    "kernelspec": {
      "name": "python3",
      "display_name": "Python 3"
    }
  },
  "cells": [
    {
      "cell_type": "markdown",
      "metadata": {
        "id": "5TzdGBkEtoXy",
        "colab_type": "text"
      },
      "source": [
        "# iris_cnn\n",
        "\n"
      ]
    },
    {
      "cell_type": "code",
      "metadata": {
        "id": "8QWhBiz9rICw",
        "colab_type": "code",
        "outputId": "b26885ef-e486-4247-8941-572ff643f917",
        "colab": {
          "base_uri": "https://localhost:8080/",
          "height": 63
        }
      },
      "source": [
        "import numpy as np\n",
        "import pandas as pd\n",
        "import matplotlib.pyplot as plt\n",
        "\n",
        "import tensorflow as tf\n",
        "\n",
        "from tensorflow import keras\n",
        "from tensorflow.keras import optimizers\n",
        "# from tensorflow.keras.layers import Dense\n",
        "from tensorflow.keras.layers import Dense, Conv1D, Flatten"
      ],
      "execution_count": 0,
      "outputs": [
        {
          "output_type": "display_data",
          "data": {
            "text/html": [
              "<p style=\"color: red;\">\n",
              "The default version of TensorFlow in Colab will soon switch to TensorFlow 2.x.<br>\n",
              "We recommend you <a href=\"https://www.tensorflow.org/guide/migrate\" target=\"_blank\">upgrade</a> now \n",
              "or ensure your notebook will continue to use TensorFlow 1.x via the <code>%tensorflow_version 1.x</code> magic:\n",
              "<a href=\"https://colab.research.google.com/notebooks/tensorflow_version.ipynb\" target=\"_blank\">more info</a>.</p>\n"
            ],
            "text/plain": [
              "<IPython.core.display.HTML object>"
            ]
          },
          "metadata": {
            "tags": []
          }
        }
      ]
    },
    {
      "cell_type": "code",
      "metadata": {
        "id": "jowO-zmzrObJ",
        "colab_type": "code",
        "outputId": "13aa2851-b8fa-4d68-aec6-33a346680ef2",
        "colab": {
          "base_uri": "https://localhost:8080/",
          "height": 204
        }
      },
      "source": [
        "!wget https://raw.githubusercontent.com/dhrim/hallym_medi_workshop_2020/master/material/iris_with_category_index.csv\n",
        "  "
      ],
      "execution_count": 0,
      "outputs": [
        {
          "output_type": "stream",
          "text": [
            "--2020-02-15 14:28:26--  https://raw.githubusercontent.com/dhrim/hallym_medi_workshop_2020/master/material/iris_with_category_index.csv\n",
            "Resolving raw.githubusercontent.com (raw.githubusercontent.com)... 151.101.0.133, 151.101.64.133, 151.101.128.133, ...\n",
            "Connecting to raw.githubusercontent.com (raw.githubusercontent.com)|151.101.0.133|:443... connected.\n",
            "HTTP request sent, awaiting response... 200 OK\n",
            "Length: 2218 (2.2K) [text/plain]\n",
            "Saving to: ‘iris_with_category_index.csv’\n",
            "\n",
            "iris_with_category_ 100%[===================>]   2.17K  --.-KB/s    in 0s      \n",
            "\n",
            "2020-02-15 14:28:31 (45.3 MB/s) - ‘iris_with_category_index.csv’ saved [2218/2218]\n",
            "\n"
          ],
          "name": "stdout"
        }
      ]
    },
    {
      "cell_type": "code",
      "metadata": {
        "id": "95dRpZwmrirs",
        "colab_type": "code",
        "outputId": "50eff4a7-86f1-4206-f58f-d13c508d371f",
        "colab": {
          "base_uri": "https://localhost:8080/",
          "height": 204
        }
      },
      "source": [
        "iris = pd.read_csv(\"iris_with_category_index.csv\")\n",
        "iris.head()"
      ],
      "execution_count": 0,
      "outputs": [
        {
          "output_type": "execute_result",
          "data": {
            "text/html": [
              "<div>\n",
              "<style scoped>\n",
              "    .dataframe tbody tr th:only-of-type {\n",
              "        vertical-align: middle;\n",
              "    }\n",
              "\n",
              "    .dataframe tbody tr th {\n",
              "        vertical-align: top;\n",
              "    }\n",
              "\n",
              "    .dataframe thead th {\n",
              "        text-align: right;\n",
              "    }\n",
              "</style>\n",
              "<table border=\"1\" class=\"dataframe\">\n",
              "  <thead>\n",
              "    <tr style=\"text-align: right;\">\n",
              "      <th></th>\n",
              "      <th>septal_length</th>\n",
              "      <th>septal_width</th>\n",
              "      <th>petal_length</th>\n",
              "      <th>petal_width</th>\n",
              "      <th>class</th>\n",
              "    </tr>\n",
              "  </thead>\n",
              "  <tbody>\n",
              "    <tr>\n",
              "      <th>0</th>\n",
              "      <td>6.4</td>\n",
              "      <td>2.8</td>\n",
              "      <td>5.6</td>\n",
              "      <td>2.2</td>\n",
              "      <td>2</td>\n",
              "    </tr>\n",
              "    <tr>\n",
              "      <th>1</th>\n",
              "      <td>5.0</td>\n",
              "      <td>2.3</td>\n",
              "      <td>3.3</td>\n",
              "      <td>1.0</td>\n",
              "      <td>1</td>\n",
              "    </tr>\n",
              "    <tr>\n",
              "      <th>2</th>\n",
              "      <td>4.9</td>\n",
              "      <td>2.5</td>\n",
              "      <td>4.5</td>\n",
              "      <td>1.7</td>\n",
              "      <td>2</td>\n",
              "    </tr>\n",
              "    <tr>\n",
              "      <th>3</th>\n",
              "      <td>4.9</td>\n",
              "      <td>3.1</td>\n",
              "      <td>1.5</td>\n",
              "      <td>0.1</td>\n",
              "      <td>0</td>\n",
              "    </tr>\n",
              "    <tr>\n",
              "      <th>4</th>\n",
              "      <td>5.7</td>\n",
              "      <td>3.8</td>\n",
              "      <td>1.7</td>\n",
              "      <td>0.3</td>\n",
              "      <td>0</td>\n",
              "    </tr>\n",
              "  </tbody>\n",
              "</table>\n",
              "</div>"
            ],
            "text/plain": [
              "   septal_length  septal_width  petal_length  petal_width  class\n",
              "0            6.4           2.8           5.6          2.2      2\n",
              "1            5.0           2.3           3.3          1.0      1\n",
              "2            4.9           2.5           4.5          1.7      2\n",
              "3            4.9           3.1           1.5          0.1      0\n",
              "4            5.7           3.8           1.7          0.3      0"
            ]
          },
          "metadata": {
            "tags": []
          },
          "execution_count": 3
        }
      ]
    },
    {
      "cell_type": "code",
      "metadata": {
        "id": "P5OBkri2ssI2",
        "colab_type": "code",
        "outputId": "e461ed6b-ff23-4622-9af8-bb6dbaa9e32f",
        "colab": {
          "base_uri": "https://localhost:8080/",
          "height": 119
        }
      },
      "source": [
        "data = iris.to_numpy()\n",
        "print(data.shape)\n",
        "print(data[:5])"
      ],
      "execution_count": 0,
      "outputs": [
        {
          "output_type": "stream",
          "text": [
            "(120, 5)\n",
            "[[6.4 2.8 5.6 2.2 2. ]\n",
            " [5.  2.3 3.3 1.  1. ]\n",
            " [4.9 2.5 4.5 1.7 2. ]\n",
            " [4.9 3.1 1.5 0.1 0. ]\n",
            " [5.7 3.8 1.7 0.3 0. ]]\n"
          ],
          "name": "stdout"
        }
      ]
    },
    {
      "cell_type": "code",
      "metadata": {
        "id": "64VZ6W65sg5H",
        "colab_type": "code",
        "outputId": "a751abfc-daf6-4031-8c55-521859781ed4",
        "colab": {
          "base_uri": "https://localhost:8080/",
          "height": 119
        }
      },
      "source": [
        "x = data[:,:4]\n",
        "y = data[:,4:]\n",
        "\n",
        "split_index = 100\n",
        "\n",
        "train_x, test_x = x[:split_index], x[split_index:]\n",
        "train_y, test_y = y[:split_index], y[split_index:]\n",
        "\n",
        "print(train_x.shape)\n",
        "print(train_y.shape)\n",
        "print(test_x.shape)\n",
        "print(test_y.shape)\n",
        "\n",
        "train_x = np.reshape(train_x, (100, 4, 1))  # ADD\n",
        "test_x = np.reshape(test_x, (20, 4, 1))     # ADD\n",
        "\n",
        "print(train_x.shape)  # ADD\n",
        "print(test_x.shape)   # ADD\n"
      ],
      "execution_count": 0,
      "outputs": [
        {
          "output_type": "stream",
          "text": [
            "(100, 4)\n",
            "(100, 1)\n",
            "(20, 4)\n",
            "(20, 1)\n",
            "(100, 4, 1)\n",
            "(20, 4, 1)\n"
          ],
          "name": "stdout"
        }
      ]
    },
    {
      "cell_type": "code",
      "metadata": {
        "id": "0SwCtBLbtCgt",
        "colab_type": "code",
        "outputId": "73b3ab03-490e-473e-abfa-6c8c70d97713",
        "colab": {
          "base_uri": "https://localhost:8080/",
          "height": 445
        }
      },
      "source": [
        "model = keras.Sequential()\n",
        "model.add(Conv1D(4, 3, activation='relu', input_shape=(4,1))) # ADD\n",
        "model.add(Flatten())  # ADD\n",
        "# model.add(Dense(10, activation='relu', input_shape=(4,)))\n",
        "model.add(Dense(10, activation='relu')) # modify\n",
        "model.add(Dense(10, activation='relu'))\n",
        "model.add(Dense(3, activation=\"softmax\")) # 1이 아니고 클래스 수 3이다\n",
        "\n",
        "model.compile(optimizer=\"SGD\", loss=\"sparse_categorical_crossentropy\", metrics=[\"accuracy\"])\n",
        "model.summary()\n",
        "\n",
        "model.fit(train_x, train_y, epochs=1000, verbose=0, batch_size=20)\n",
        "\n",
        "loss, acc = model.evaluate(test_x, test_y)\n",
        "print(\"loss=\", loss)\n",
        "print(\"acc=\", acc)\n"
      ],
      "execution_count": 0,
      "outputs": [
        {
          "output_type": "stream",
          "text": [
            "WARNING:tensorflow:From /usr/local/lib/python3.6/dist-packages/tensorflow_core/python/ops/resource_variable_ops.py:1630: calling BaseResourceVariable.__init__ (from tensorflow.python.ops.resource_variable_ops) with constraint is deprecated and will be removed in a future version.\n",
            "Instructions for updating:\n",
            "If using Keras pass *_constraint arguments to layers.\n",
            "Model: \"sequential\"\n",
            "_________________________________________________________________\n",
            "Layer (type)                 Output Shape              Param #   \n",
            "=================================================================\n",
            "conv1d (Conv1D)              (None, 2, 4)              16        \n",
            "_________________________________________________________________\n",
            "flatten (Flatten)            (None, 8)                 0         \n",
            "_________________________________________________________________\n",
            "dense (Dense)                (None, 10)                90        \n",
            "_________________________________________________________________\n",
            "dense_1 (Dense)              (None, 10)                110       \n",
            "_________________________________________________________________\n",
            "dense_2 (Dense)              (None, 3)                 33        \n",
            "=================================================================\n",
            "Total params: 249\n",
            "Trainable params: 249\n",
            "Non-trainable params: 0\n",
            "_________________________________________________________________\n",
            "20/20 [==============================] - 0s 2ms/sample - loss: 0.0264 - acc: 1.0000\n",
            "loss= 0.026399672031402588\n",
            "acc= 1.0\n"
          ],
          "name": "stdout"
        }
      ]
    },
    {
      "cell_type": "code",
      "metadata": {
        "id": "UbanwtJYuU3z",
        "colab_type": "code",
        "outputId": "e3cc25eb-bf6b-4edf-e94c-bc0be24d86e5",
        "colab": {
          "base_uri": "https://localhost:8080/",
          "height": 374
        }
      },
      "source": [
        "y_ = model.predict(test_x)\n",
        "print(y_)\n",
        "print(np.argmax(y_, axis=1))"
      ],
      "execution_count": 0,
      "outputs": [
        {
          "output_type": "stream",
          "text": [
            "[[9.97899175e-01 2.10075825e-03 5.75631773e-12]\n",
            " [4.93423780e-03 9.94462907e-01 6.02790620e-04]\n",
            " [9.87706006e-01 1.22939702e-02 9.66763114e-10]\n",
            " [2.28394245e-04 9.98270869e-01 1.50079816e-03]\n",
            " [9.98650730e-01 1.34933344e-03 2.33505121e-12]\n",
            " [9.99311328e-01 6.88632310e-04 2.41106045e-13]\n",
            " [9.99622464e-01 3.77471995e-04 4.90324774e-14]\n",
            " [9.99575913e-01 4.24130500e-04 1.11333414e-13]\n",
            " [8.65180697e-03 9.91216779e-01 1.31454712e-04]\n",
            " [9.96255279e-01 3.74473375e-03 1.47887171e-11]\n",
            " [3.79898052e-06 2.32887849e-01 7.67108321e-01]\n",
            " [2.65125011e-04 9.94480729e-01 5.25421416e-03]\n",
            " [9.95629430e-01 4.37055575e-03 1.63043225e-11]\n",
            " [1.26147413e-07 2.01344714e-02 9.79865372e-01]\n",
            " [9.98938262e-01 1.06174080e-03 2.41921153e-12]\n",
            " [2.33983010e-05 8.32126498e-01 1.67850077e-01]\n",
            " [2.48962053e-04 9.97147858e-01 2.60325172e-03]\n",
            " [9.96331155e-01 3.66886449e-03 4.00881828e-11]\n",
            " [9.97829139e-01 2.17084517e-03 5.34186107e-12]\n",
            " [8.23668845e-04 9.98099506e-01 1.07680389e-03]]\n",
            "[0 1 0 1 0 0 0 0 1 0 2 1 0 2 0 1 1 0 0 1]\n"
          ],
          "name": "stdout"
        }
      ]
    },
    {
      "cell_type": "code",
      "metadata": {
        "id": "5CyFXhlrubUQ",
        "colab_type": "code",
        "colab": {}
      },
      "source": [
        ""
      ],
      "execution_count": 0,
      "outputs": []
    }
  ]
}