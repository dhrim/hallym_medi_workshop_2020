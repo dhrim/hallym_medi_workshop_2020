{
  "nbformat": 4,
  "nbformat_minor": 0,
  "metadata": {
    "colab": {
      "name": "text_classification.ipynb",
      "provenance": []
    },
    "kernelspec": {
      "name": "python3",
      "display_name": "Python 3"
    },
    "accelerator": "GPU"
  },
  "cells": [
    {
      "source": [
        "# 텍스트 분류\n",
        "\n",
        "copied and modified from\n",
        "- https://www.tensorflow.org/tutorials/keras/text_classification\n",
        "- https://www.tensorflow.org/tutorials/text/text_classification_rnn\n"
      ],
      "cell_type": "markdown",
      "outputs": [
        {
          "output_type": "error",
          "ename": "SyntaxError",
          "evalue": "invalid syntax (<ipython-input-3-61063b95f5c2>, line 3)",
          "traceback": [
            "\u001b[0;36m  File \u001b[0;32m\"<ipython-input-3-61063b95f5c2>\"\u001b[0;36m, line \u001b[0;32m3\u001b[0m\n\u001b[0;31m    copied and modified from\u001b[0m\n\u001b[0m                           ^\u001b[0m\n\u001b[0;31mSyntaxError\u001b[0m\u001b[0;31m:\u001b[0m invalid syntax\n"
          ]
        }
      ],
      "metadata": {},
      "execution_count": 3
    },
    {
      "cell_type": "code",
      "metadata": {
        "id": "KVZ8aq96QC0Y",
        "colab_type": "code",
        "colab": {}
      },
      "source": [
        "## 설정\n",
        "VOCA_SIZE = 10000 # 어휘 사전의 크기\n",
        "EMBEDDING_SIZE = 64 # 단어를 임베딩한 벡터 크기"
      ],
      "outputs": []
    },
    {
      "cell_type": "markdown",
      "metadata": {
        "id": "9xeAkpUYJPpy",
        "colab_type": "text"
      },
      "source": [
        "## 데이터 로딩"
      ],
      "outputs": []
    },
    {
      "cell_type": "code",
      "metadata": {
        "id": "-nglK_9Hd3_r",
        "colab_type": "code",
        "outputId": "720140aa-46d3-42ab-ba2d-eea5d5966faf",
        "colab": {
          "base_uri": "https://localhost:8080/",
          "height": 197
        }
      },
      "source": [
        "import tensorflow as tf\n",
        "\n",
        "print('Loading data...')\n",
        "(train_x, train_y), (test_x, test_y) = tf.keras.datasets.imdb.load_data(num_words=VOCA_SIZE)\n",
        "\n",
        "print(train_x.shape)\n",
        "print(train_y.shape)\n",
        "print(test_x.shape)\n",
        "print(test_y.shape)\n",
        "\n"
      ],
      "outputs": []
    },
    {
      "cell_type": "markdown",
      "metadata": {
        "id": "2B3TWo3_JR2U",
        "colab_type": "text"
      },
      "source": [
        "## 데이터 보기"
      ],
      "outputs": []
    },
    {
      "cell_type": "code",
      "metadata": {
        "id": "wTUxzKwFJigM",
        "colab_type": "code",
        "outputId": "e395b90b-1bcb-4614-a7d2-392a91f3bb01",
        "colab": {
          "base_uri": "https://localhost:8080/",
          "height": 138
        }
      },
      "source": [
        "print(train_x[:5])\n",
        "print(train_y[:5])"
      ],
      "outputs": []
    },
    {
      "cell_type": "markdown",
      "metadata": {
        "id": "Ifl7K71wNchw",
        "colab_type": "text"
      },
      "source": [
        "## 텍스트로 데이터 보기"
      ],
      "outputs": []
    },
    {
      "cell_type": "code",
      "metadata": {
        "id": "mkw9MdgJLZOX",
        "colab_type": "code",
        "outputId": "5cde1c43-69f5-4130-b572-66045331c677",
        "colab": {
          "base_uri": "https://localhost:8080/",
          "height": 87
        }
      },
      "source": [
        "# 단어와 정수 인덱스를 매핑한 딕셔너리\n",
        "word_index = tf.keras.datasets.imdb.get_word_index()\n",
        "\n",
        "# 처음 몇 개 인덱스는 사전에 정의되어 있습니다\n",
        "word_index = {k:(v+3) for k,v in word_index.items()}\n",
        "word_index[\"<PAD>\"] = 0\n",
        "word_index[\"<START>\"] = 1\n",
        "word_index[\"<UNK>\"] = 2  # unknown\n",
        "word_index[\"<UNUSED>\"] = 3\n",
        "\n",
        "reverse_word_index = dict([(value, key) for (key, value) in word_index.items()])\n",
        "\n",
        "def decode_review(text):\n",
        "    return ' '.join([reverse_word_index.get(i, '?') for i in text])\n",
        "\n",
        "\n",
        "print(decode_review(train_x[0]))"
      ],
      "outputs": []
    },
    {
      "cell_type": "markdown",
      "metadata": {
        "id": "9Oxp3l0TJzgq",
        "colab_type": "text"
      },
      "source": [
        "## 각 데이터의 길이"
      ],
      "outputs": []
    },
    {
      "cell_type": "code",
      "metadata": {
        "id": "Sx0jFfDqHh4q",
        "colab_type": "code",
        "outputId": "f1695721-2a91-4415-f0f4-b31e97ed0601",
        "colab": {
          "base_uri": "https://localhost:8080/",
          "height": 101
        }
      },
      "source": [
        "print(len(train_x[0]))\n",
        "print(len(train_x[1]))\n",
        "print(len(train_x[2]))\n",
        "print(len(train_x[3]))\n",
        "print(len(train_x[4]))"
      ],
      "outputs": []
    },
    {
      "cell_type": "markdown",
      "metadata": {
        "id": "ICmUFp5tNmGp",
        "colab_type": "text"
      },
      "source": [
        "## 데이터 길이 일정하게 하기"
      ],
      "outputs": []
    },
    {
      "cell_type": "code",
      "metadata": {
        "id": "QpkgDH3CO4gG",
        "colab_type": "code",
        "outputId": "a0966b5d-600b-4559-ee11-0d87118f6e32",
        "colab": {
          "base_uri": "https://localhost:8080/",
          "height": 70
        }
      },
      "source": [
        "print(train_x[0])\n",
        "print(len(train_x[0]))"
      ],
      "outputs": []
    },
    {
      "cell_type": "code",
      "metadata": {
        "id": "0C6fLRb_HA8A",
        "colab_type": "code",
        "outputId": "a5aaf630-a10d-49cb-f946-eb7d2157013d",
        "colab": {
          "base_uri": "https://localhost:8080/",
          "height": 50
        }
      },
      "source": [
        "from tensorflow.keras.preprocessing import sequence\n",
        "\n",
        "train_x = sequence.pad_sequences(train_x, maxlen=400, padding='post')\n",
        "test_x = sequence.pad_sequences(test_x, maxlen=400, padding='post')\n",
        "print(train_x.shape)\n",
        "print(test_x.shape)"
      ],
      "outputs": []
    },
    {
      "cell_type": "code",
      "metadata": {
        "id": "K6gb4O2OeWcO",
        "colab_type": "code",
        "outputId": "8c2fc5fe-a336-4072-d5e1-ede91cc1f751",
        "colab": {
          "base_uri": "https://localhost:8080/",
          "height": 521
        }
      },
      "source": [
        "print(train_x[0])\n",
        "print(len(train_x[0]))"
      ],
      "outputs": []
    },
    {
      "cell_type": "markdown",
      "metadata": {
        "id": "Yoibr3xQN0Vq",
        "colab_type": "text"
      },
      "source": [
        "## CNN 모델 사용"
      ],
      "outputs": []
    },
    {
      "cell_type": "code",
      "metadata": {
        "id": "QYlvpK2neGdv",
        "colab_type": "code",
        "outputId": "273b30ec-5b4b-4431-bfa7-4601b8a07ff3",
        "colab": {
          "base_uri": "https://localhost:8080/",
          "height": 994
        }
      },
      "source": [
        "from tensorflow.keras.preprocessing import sequence\n",
        "from tensorflow.keras.models import Sequential\n",
        "from tensorflow.keras.layers import Input, Dense, Dropout, Activation\n",
        "from tensorflow.keras.layers import Embedding\n",
        "from tensorflow.keras.layers import Conv1D, GlobalMaxPooling1D\n",
        "\n",
        "model = Sequential()\n",
        "model.add(Input(400))\n",
        "model.add(Embedding(VOCA_SIZE, EMBEDDING_SIZE)) # 텍스트는 임베딩 해서 사용한다.\n",
        "model.add(Dropout(0.2))\n",
        "model.add(Conv1D(250, 3))\n",
        "model.add(GlobalMaxPooling1D())\n",
        "model.add(Dense(250))\n",
        "model.add(Dropout(0.2))\n",
        "model.add(Activation('relu'))\n",
        "model.add(Dense(1))\n",
        "model.add(Activation('sigmoid'))\n",
        "\n",
        "model.summary()\n",
        "\n",
        "model.compile(loss='binary_crossentropy', optimizer='adam', metrics=['accuracy'])\n",
        "\n",
        "model.fit(train_x, train_y, batch_size=32, epochs=10, validation_data=(test_x, test_y))"
      ],
      "outputs": []
    },
    {
      "cell_type": "code",
      "metadata": {
        "id": "28CiZH01d5RR",
        "colab_type": "code",
        "colab": {}
      },
      "source": [],
      "outputs": []
    },
    {
      "cell_type": "markdown",
      "metadata": {
        "id": "AQnEiGI_Y-2o",
        "colab_type": "text"
      },
      "source": [
        "## RNN 모델 사용\n"
      ],
      "outputs": []
    },
    {
      "cell_type": "code",
      "metadata": {
        "id": "HKWcjknZZAiF",
        "colab_type": "code",
        "outputId": "e547aa33-be78-40a4-8676-4487c5333bd5",
        "colab": {
          "base_uri": "https://localhost:8080/",
          "height": 776
        }
      },
      "source": [
        "from tensorflow.keras.preprocessing import sequence\n",
        "from tensorflow.keras.models import Sequential\n",
        "from tensorflow.keras.layers import Input, Dense, Dropout, Activation\n",
        "from tensorflow.keras.layers import Embedding\n",
        "from tensorflow.keras.layers import Conv1D, GlobalMaxPooling1D\n",
        "from tensorflow.keras.layers import Bidirectional, LSTM\n",
        "\n",
        "model = Sequential()\n",
        "model.add(Input(400))\n",
        "model.add(Embedding(VOCA_SIZE, EMBEDDING_SIZE))\n",
        "model.add(Dropout(0.2))\n",
        "# model.add(Conv1D(250, 3))\n",
        "# model.add(GlobalMaxPooling1D())\n",
        "model.add(Bidirectional(LSTM(64))) # ADD\n",
        "model.add(Dense(250))\n",
        "model.add(Dropout(0.2))\n",
        "model.add(Activation('relu'))\n",
        "model.add(Dense(1))\n",
        "model.add(Activation('sigmoid'))\n",
        "\n",
        "model.summary()\n",
        "\n",
        "model.compile(loss='binary_crossentropy', optimizer='adam', metrics=['accuracy'])\n",
        "\n",
        "model.fit(train_x, train_y, batch_size=32, epochs=10, validation_data=(test_x, test_y))"
      ],
      "outputs": []
    },
    {
      "cell_type": "code",
      "metadata": {
        "id": "Nd53lZYFZY0U",
        "colab_type": "code",
        "colab": {}
      },
      "source": [],
      "outputs": []
    }
  ]
}