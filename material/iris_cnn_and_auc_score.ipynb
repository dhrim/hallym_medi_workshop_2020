{
  "nbformat": 4,
  "nbformat_minor": 0,
  "metadata": {
    "colab": {
      "name": "iris_cnn_and_auc_score.ipynb",
      "provenance": [],
      "collapsed_sections": [],
      "toc_visible": true
    },
    "kernelspec": {
      "name": "python3",
      "display_name": "Python 3"
    }
  },
  "cells": [
    {
      "cell_type": "markdown",
      "metadata": {
        "id": "5TzdGBkEtoXy",
        "colab_type": "text"
      },
      "source": [
        "# iris_cnn\n",
        "\n"
      ]
    },
    {
      "cell_type": "code",
      "metadata": {
        "id": "8QWhBiz9rICw",
        "colab_type": "code",
        "colab": {}
      },
      "source": [
        "import numpy as np\n",
        "import pandas as pd\n",
        "import matplotlib.pyplot as plt\n",
        "\n",
        "import tensorflow as tf\n",
        "\n",
        "from tensorflow import keras\n",
        "from tensorflow.keras import optimizers\n",
        "# from tensorflow.keras.layers import Dense\n",
        "from tensorflow.keras.layers import Dense, Conv1D, Flatten"
      ],
      "execution_count": 0,
      "outputs": []
    },
    {
      "cell_type": "code",
      "metadata": {
        "id": "jowO-zmzrObJ",
        "colab_type": "code",
        "outputId": "5a9ebf52-64ed-4297-8934-1d9d2d09911e",
        "colab": {
          "base_uri": "https://localhost:8080/",
          "height": 227
        }
      },
      "source": [
        "!wget https://raw.githubusercontent.com/dhrim/hallym_medi_workshop_2020/master/material/iris_with_category_index.csv\n",
        "  "
      ],
      "execution_count": 0,
      "outputs": [
        {
          "output_type": "stream",
          "text": [
            "--2020-04-17 04:10:26--  https://raw.githubusercontent.com/dhrim/hallym_medi_workshop_2020/master/material/iris_with_category_index.csv\n",
            "Resolving raw.githubusercontent.com (raw.githubusercontent.com)... 151.101.0.133, 151.101.64.133, 151.101.128.133, ...\n",
            "Connecting to raw.githubusercontent.com (raw.githubusercontent.com)|151.101.0.133|:443... connected.\n",
            "HTTP request sent, awaiting response... 200 OK\n",
            "Length: 2218 (2.2K) [text/plain]\n",
            "Saving to: ‘iris_with_category_index.csv’\n",
            "\n",
            "\r          iris_with   0%[                    ]       0  --.-KB/s               \riris_with_category_ 100%[===================>]   2.17K  --.-KB/s    in 0s      \n",
            "\n",
            "2020-04-17 04:10:26 (44.0 MB/s) - ‘iris_with_category_index.csv’ saved [2218/2218]\n",
            "\n"
          ],
          "name": "stdout"
        }
      ]
    },
    {
      "cell_type": "code",
      "metadata": {
        "id": "95dRpZwmrirs",
        "colab_type": "code",
        "outputId": "4d8ba24e-75a0-4f21-a2c6-7153f74f9db6",
        "colab": {
          "base_uri": "https://localhost:8080/",
          "height": 198
        }
      },
      "source": [
        "iris = pd.read_csv(\"iris_with_category_index.csv\")\n",
        "iris.head()"
      ],
      "execution_count": 0,
      "outputs": [
        {
          "output_type": "execute_result",
          "data": {
            "text/html": [
              "<div>\n",
              "<style scoped>\n",
              "    .dataframe tbody tr th:only-of-type {\n",
              "        vertical-align: middle;\n",
              "    }\n",
              "\n",
              "    .dataframe tbody tr th {\n",
              "        vertical-align: top;\n",
              "    }\n",
              "\n",
              "    .dataframe thead th {\n",
              "        text-align: right;\n",
              "    }\n",
              "</style>\n",
              "<table border=\"1\" class=\"dataframe\">\n",
              "  <thead>\n",
              "    <tr style=\"text-align: right;\">\n",
              "      <th></th>\n",
              "      <th>septal_length</th>\n",
              "      <th>septal_width</th>\n",
              "      <th>petal_length</th>\n",
              "      <th>petal_width</th>\n",
              "      <th>class</th>\n",
              "    </tr>\n",
              "  </thead>\n",
              "  <tbody>\n",
              "    <tr>\n",
              "      <th>0</th>\n",
              "      <td>6.4</td>\n",
              "      <td>2.8</td>\n",
              "      <td>5.6</td>\n",
              "      <td>2.2</td>\n",
              "      <td>2</td>\n",
              "    </tr>\n",
              "    <tr>\n",
              "      <th>1</th>\n",
              "      <td>5.0</td>\n",
              "      <td>2.3</td>\n",
              "      <td>3.3</td>\n",
              "      <td>1.0</td>\n",
              "      <td>1</td>\n",
              "    </tr>\n",
              "    <tr>\n",
              "      <th>2</th>\n",
              "      <td>4.9</td>\n",
              "      <td>2.5</td>\n",
              "      <td>4.5</td>\n",
              "      <td>1.7</td>\n",
              "      <td>2</td>\n",
              "    </tr>\n",
              "    <tr>\n",
              "      <th>3</th>\n",
              "      <td>4.9</td>\n",
              "      <td>3.1</td>\n",
              "      <td>1.5</td>\n",
              "      <td>0.1</td>\n",
              "      <td>0</td>\n",
              "    </tr>\n",
              "    <tr>\n",
              "      <th>4</th>\n",
              "      <td>5.7</td>\n",
              "      <td>3.8</td>\n",
              "      <td>1.7</td>\n",
              "      <td>0.3</td>\n",
              "      <td>0</td>\n",
              "    </tr>\n",
              "  </tbody>\n",
              "</table>\n",
              "</div>"
            ],
            "text/plain": [
              "   septal_length  septal_width  petal_length  petal_width  class\n",
              "0            6.4           2.8           5.6          2.2      2\n",
              "1            5.0           2.3           3.3          1.0      1\n",
              "2            4.9           2.5           4.5          1.7      2\n",
              "3            4.9           3.1           1.5          0.1      0\n",
              "4            5.7           3.8           1.7          0.3      0"
            ]
          },
          "metadata": {
            "tags": []
          },
          "execution_count": 3
        }
      ]
    },
    {
      "cell_type": "code",
      "metadata": {
        "id": "P5OBkri2ssI2",
        "colab_type": "code",
        "outputId": "5bf83920-44db-4a9b-fddb-6b18a1589a72",
        "colab": {
          "base_uri": "https://localhost:8080/",
          "height": 121
        }
      },
      "source": [
        "data = iris.to_numpy()\n",
        "print(data.shape)\n",
        "print(data[:5])"
      ],
      "execution_count": 0,
      "outputs": [
        {
          "output_type": "stream",
          "text": [
            "(120, 5)\n",
            "[[6.4 2.8 5.6 2.2 2. ]\n",
            " [5.  2.3 3.3 1.  1. ]\n",
            " [4.9 2.5 4.5 1.7 2. ]\n",
            " [4.9 3.1 1.5 0.1 0. ]\n",
            " [5.7 3.8 1.7 0.3 0. ]]\n"
          ],
          "name": "stdout"
        }
      ]
    },
    {
      "cell_type": "code",
      "metadata": {
        "id": "64VZ6W65sg5H",
        "colab_type": "code",
        "outputId": "adbeca37-fb7d-4124-bdb6-e3a53433f588",
        "colab": {
          "base_uri": "https://localhost:8080/",
          "height": 121
        }
      },
      "source": [
        "x = data[:,:4]\n",
        "y = data[:,4:]\n",
        "\n",
        "split_index = 100\n",
        "\n",
        "train_x, test_x = x[:split_index], x[split_index:]\n",
        "train_y, test_y = y[:split_index], y[split_index:]\n",
        "\n",
        "print(train_x.shape)\n",
        "print(train_y.shape)\n",
        "print(test_x.shape)\n",
        "print(test_y.shape)\n",
        "\n",
        "train_x = np.reshape(train_x, (100, 4, 1))  # ADD\n",
        "test_x = np.reshape(test_x, (20, 4, 1))     # ADD\n",
        "\n",
        "print(train_x.shape)  # ADD\n",
        "print(test_x.shape)   # ADD\n"
      ],
      "execution_count": 0,
      "outputs": [
        {
          "output_type": "stream",
          "text": [
            "(100, 4)\n",
            "(100, 1)\n",
            "(20, 4)\n",
            "(20, 1)\n",
            "(100, 4, 1)\n",
            "(20, 4, 1)\n"
          ],
          "name": "stdout"
        }
      ]
    },
    {
      "cell_type": "code",
      "metadata": {
        "id": "0SwCtBLbtCgt",
        "colab_type": "code",
        "outputId": "6b5fd207-01e2-4d95-f2e3-8cc159ff6092",
        "colab": {
          "base_uri": "https://localhost:8080/",
          "height": 380
        }
      },
      "source": [
        "model = keras.Sequential()\n",
        "model.add(Conv1D(4, 3, activation='relu', input_shape=(4,1))) # ADD\n",
        "model.add(Flatten())  # ADD\n",
        "# model.add(Dense(10, activation='relu', input_shape=(4,)))\n",
        "model.add(Dense(10, activation='relu')) # modify\n",
        "model.add(Dense(10, activation='relu'))\n",
        "model.add(Dense(3, activation=\"softmax\")) # 1이 아니고 클래스 수 3이다\n",
        "\n",
        "model.compile(optimizer=\"SGD\", loss=\"sparse_categorical_crossentropy\", metrics=[\"accuracy\"])\n",
        "model.summary()\n",
        "\n",
        "model.fit(train_x, train_y, epochs=1000, verbose=0, batch_size=20)\n",
        "\n",
        "loss, acc = model.evaluate(test_x, test_y)\n",
        "print(\"loss=\", loss)\n",
        "print(\"acc=\", acc)\n"
      ],
      "execution_count": 0,
      "outputs": [
        {
          "output_type": "stream",
          "text": [
            "Model: \"sequential\"\n",
            "_________________________________________________________________\n",
            "Layer (type)                 Output Shape              Param #   \n",
            "=================================================================\n",
            "conv1d (Conv1D)              (None, 2, 4)              16        \n",
            "_________________________________________________________________\n",
            "flatten (Flatten)            (None, 8)                 0         \n",
            "_________________________________________________________________\n",
            "dense (Dense)                (None, 10)                90        \n",
            "_________________________________________________________________\n",
            "dense_1 (Dense)              (None, 10)                110       \n",
            "_________________________________________________________________\n",
            "dense_2 (Dense)              (None, 3)                 33        \n",
            "=================================================================\n",
            "Total params: 249\n",
            "Trainable params: 249\n",
            "Non-trainable params: 0\n",
            "_________________________________________________________________\n",
            "1/1 [==============================] - 0s 2ms/step - loss: 0.0284 - accuracy: 1.0000\n",
            "loss= 0.028446242213249207\n",
            "acc= 1.0\n"
          ],
          "name": "stdout"
        }
      ]
    },
    {
      "cell_type": "code",
      "metadata": {
        "id": "UbanwtJYuU3z",
        "colab_type": "code",
        "outputId": "a4e8b27f-8ef5-4053-b6c1-fe2987fcc47f",
        "colab": {
          "base_uri": "https://localhost:8080/",
          "height": 380
        }
      },
      "source": [
        "y_ = model.predict(test_x)\n",
        "predicted_y = np.argmax(y_, axis=1)\n",
        "print(y_)\n",
        "print(np.argmax(y_, axis=1))\n"
      ],
      "execution_count": 0,
      "outputs": [
        {
          "output_type": "stream",
          "text": [
            "[[9.99083757e-01 9.16214194e-04 3.54143276e-18]\n",
            " [3.62755475e-03 9.96334076e-01 3.83580300e-05]\n",
            " [9.95951533e-01 4.04843502e-03 1.16207855e-14]\n",
            " [3.13876168e-04 9.99605358e-01 8.07810720e-05]\n",
            " [9.99080420e-01 9.19545302e-04 1.44313145e-18]\n",
            " [9.99706328e-01 2.93703954e-04 2.17386328e-20]\n",
            " [9.99782383e-01 2.17652734e-04 2.15885436e-21]\n",
            " [9.99732673e-01 2.67366326e-04 7.77453971e-21]\n",
            " [6.42695744e-03 9.93569732e-01 3.33254025e-06]\n",
            " [9.98116612e-01 1.88341539e-03 1.46761511e-17]\n",
            " [2.72083329e-04 1.96082026e-01 8.03645849e-01]\n",
            " [4.43916098e-04 9.99243855e-01 3.12226912e-04]\n",
            " [9.98276353e-01 1.72370335e-03 1.59049395e-17]\n",
            " [1.85286262e-04 1.31423578e-01 8.68391156e-01]\n",
            " [9.99151826e-01 8.48145806e-04 2.24873620e-18]\n",
            " [5.94400160e-04 8.33489239e-01 1.65916428e-01]\n",
            " [3.21254076e-04 9.99605715e-01 7.30783286e-05]\n",
            " [9.97834146e-01 2.16585374e-03 7.99009554e-17]\n",
            " [9.99002755e-01 9.97252646e-04 2.72534257e-18]\n",
            " [1.00304128e-03 9.98886049e-01 1.10881156e-04]]\n",
            "[0 1 0 1 0 0 0 0 1 0 2 1 0 2 0 1 1 0 0 1]\n"
          ],
          "name": "stdout"
        }
      ]
    },
    {
      "cell_type": "markdown",
      "metadata": {
        "id": "tcEVKOYs7OG-",
        "colab_type": "text"
      },
      "source": [
        "# AUC 그리기\n",
        "\n",
        "100% acc에서는 ROC 스코어가 1.0이 된다. 그래서 일부러 학습을 조금만 한다.\n",
        "\n",
        "그리고 category id 0과 기타로 이진분류에 대하여 AUC를 그린다."
      ]
    },
    {
      "cell_type": "code",
      "metadata": {
        "id": "V4Fbh8n4DuvO",
        "colab_type": "code",
        "outputId": "62fe1ae5-2cd0-44f7-b614-714d56fa44ed",
        "colab": {
          "base_uri": "https://localhost:8080/",
          "height": 380
        }
      },
      "source": [
        "model = keras.Sequential()\n",
        "model.add(Conv1D(4, 3, activation='relu', input_shape=(4,1)))\n",
        "model.add(Flatten())\n",
        "model.add(Dense(10, activation='relu'))\n",
        "model.add(Dense(10, activation='relu'))\n",
        "model.add(Dense(3, activation=\"softmax\"))\n",
        "\n",
        "model.compile(optimizer=\"SGD\", loss=\"sparse_categorical_crossentropy\", metrics=[\"accuracy\"])\n",
        "model.summary()\n",
        "\n",
        "# model.fit(train_x, train_y, epochs=1000, verbose=0, batch_size=20)\n",
        "model.fit(train_x, train_y, epochs=10, verbose=0, batch_size=20)\n",
        "\n",
        "loss, acc = model.evaluate(test_x, test_y)\n",
        "print(\"loss=\", loss)\n",
        "print(\"acc=\", acc)"
      ],
      "execution_count": 0,
      "outputs": [
        {
          "output_type": "stream",
          "text": [
            "Model: \"sequential_1\"\n",
            "_________________________________________________________________\n",
            "Layer (type)                 Output Shape              Param #   \n",
            "=================================================================\n",
            "conv1d_1 (Conv1D)            (None, 2, 4)              16        \n",
            "_________________________________________________________________\n",
            "flatten_1 (Flatten)          (None, 8)                 0         \n",
            "_________________________________________________________________\n",
            "dense_3 (Dense)              (None, 10)                90        \n",
            "_________________________________________________________________\n",
            "dense_4 (Dense)              (None, 10)                110       \n",
            "_________________________________________________________________\n",
            "dense_5 (Dense)              (None, 3)                 33        \n",
            "=================================================================\n",
            "Total params: 249\n",
            "Trainable params: 249\n",
            "Non-trainable params: 0\n",
            "_________________________________________________________________\n",
            "1/1 [==============================] - 0s 1ms/step - loss: 1.0937 - accuracy: 0.3000\n",
            "loss= 1.0936973094940186\n",
            "acc= 0.30000001192092896\n"
          ],
          "name": "stdout"
        }
      ]
    },
    {
      "cell_type": "code",
      "metadata": {
        "id": "u3LfcILp7QP7",
        "colab_type": "code",
        "outputId": "422ddd39-1b2e-4df4-a4d7-dd3d37c2a926",
        "colab": {
          "base_uri": "https://localhost:8080/",
          "height": 242
        }
      },
      "source": [
        "y_ = model.predict(test_x)\n",
        "predicted_y = np.argmax(y_, axis=1)\n",
        "\n",
        "from sklearn.preprocessing import OneHotEncoder\n",
        "from sklearn.metrics import roc_curve, roc_auc_score\n",
        "\n",
        "one_hot_encoded_test_y = OneHotEncoder(sparse=False).fit_transform(test_y)\n",
        "print(y_.shape)\n",
        "print(one_hot_encoded_test_y.shape)\n",
        "print(y_[:5])\n",
        "print(one_hot_encoded_test_y[:5])\n",
        "\n",
        "score = roc_auc_score(one_hot_encoded_test_y, y_, multi_class=\"ovr\") # ovr : one vs rest\n",
        "print(score)\n"
      ],
      "execution_count": 0,
      "outputs": [
        {
          "output_type": "stream",
          "text": [
            "(20, 3)\n",
            "(20, 3)\n",
            "[[0.3429596  0.34550253 0.31153786]\n",
            " [0.34506524 0.32362902 0.3313057 ]\n",
            " [0.3389791  0.34771404 0.3133068 ]\n",
            " [0.35386798 0.3223889  0.32374313]\n",
            " [0.34351903 0.33786616 0.3186149 ]]\n",
            "[[1. 0. 0.]\n",
            " [0. 1. 0.]\n",
            " [1. 0. 0.]\n",
            " [0. 1. 0.]\n",
            " [1. 0. 0.]]\n",
            "0.39134939134939134\n"
          ],
          "name": "stdout"
        }
      ]
    },
    {
      "cell_type": "code",
      "metadata": {
        "colab_type": "code",
        "outputId": "0ec0d964-1413-4a51-9ca8-3c94afca645c",
        "id": "ix1dcpiwdVY-",
        "colab": {
          "base_uri": "https://localhost:8080/",
          "height": 386
        }
      },
      "source": [
        "def plot_roc_curve(fpr,tpr): \n",
        "  plt.plot(fpr,tpr) \n",
        "  plt.axis([0,1,0,1]) \n",
        "  plt.xlabel('False Positive Rate') \n",
        "  plt.ylabel('True Positive Rate') \n",
        "  plt.show()    \n",
        "\n",
        "true_y = test_y.squeeze()\n",
        "print(true_y.shape)\n",
        "print(predicted_y.shape)\n",
        "print(true_y[:5])\n",
        "print(predicted_y[:5])\n",
        "\n",
        "fpr, tpr, thresholds = roc_curve(test_y.squeeze(), predicted_y, pos_label=0)\n",
        "\n",
        "print(fpr)\n",
        "print(tpr)\n",
        "\n",
        "plot_roc_curve(fpr, tpr) "
      ],
      "execution_count": 0,
      "outputs": [
        {
          "output_type": "stream",
          "text": [
            "(20,)\n",
            "(20,)\n",
            "[0. 1. 0. 1. 0.]\n",
            "[1 0 1 0 0]\n",
            "[0.         0.11111111 0.11111111 1.        ]\n",
            "[0.         0.         0.54545455 1.        ]\n"
          ],
          "name": "stdout"
        },
        {
          "output_type": "display_data",
          "data": {
            "image/png": "[encoded data removed]",
            "text/plain": [
              "<Figure size 432x288 with 1 Axes>"
            ]
          },
          "metadata": {
            "tags": [],
            "needs_background": "light"
          }
        }
      ]
    },
    {
      "cell_type": "code",
      "metadata": {
        "id": "1zniWzJPfLpe",
        "colab_type": "code",
        "colab": {}
      },
      "source": [
        ""
      ],
      "execution_count": 0,
      "outputs": []
    }
  ]
}