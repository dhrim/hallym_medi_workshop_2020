{
  "nbformat": 4,
  "nbformat_minor": 0,
  "metadata": {
    "colab": {
      "name": "understanding_loss_function.ipynb",
      "provenance": []
    },
    "kernelspec": {
      "name": "python3",
      "display_name": "Python 3"
    },
    "accelerator": "GPU"
  },
  "cells": [
    {
      "cell_type": "markdown",
      "metadata": {
        "id": "ZVEJ9TWwB-Gb",
        "colab_type": "text"
      },
      "source": [
        "# 손실함수의 이해"
      ]
    },
    {
      "cell_type": "code",
      "metadata": {
        "id": "vJbNqeIyCQfl",
        "colab_type": "code",
        "colab": {}
      },
      "source": [
        "import numpy as np\n",
        "import matplotlib.pyplot as plt\n",
        "\n",
        "from tensorflow import keras\n",
        "from tensorflow.keras import optimizers\n",
        "from tensorflow.keras.layers import Dense\n",
        "\n",
        "import time"
      ],
      "execution_count": 0,
      "outputs": []
    },
    {
      "cell_type": "markdown",
      "metadata": {
        "id": "0duBPnzyMmlz",
        "colab_type": "text"
      },
      "source": [
        "## 두개의 수를 입력으로, 합의 양 음을 출력\n",
        "\n",
        "```\n",
        "y = (x1 + x2) > 0\n",
        "```"
      ]
    },
    {
      "cell_type": "code",
      "metadata": {
        "id": "sz3bQGTcCu8u",
        "colab_type": "code",
        "colab": {
          "base_uri": "https://localhost:8080/",
          "height": 134
        },
        "outputId": "af1f514f-e7a9-4a33-a115-a2968c393674"
      },
      "source": [
        "x1 = np.arange(-10, 10, 0.1)\n",
        "np.random.shuffle(x1)\n",
        "x2 = np.arange(-10, 10, 0.1)\n",
        "np.random.shuffle(x2)\n",
        "\n",
        "x = np.ones((x1.shape[0],2))\n",
        "x[:,0] = x1\n",
        "x[:,1] = x2\n",
        "\n",
        "z = x1 + x2\n",
        "\n",
        "y = z > 0\n",
        "\n",
        "print(x[:5])\n",
        "print(z[:5])\n",
        "print(y[:5])\n"
      ],
      "execution_count": 38,
      "outputs": [
        {
          "output_type": "stream",
          "text": [
            "[[-2.1  3.2]\n",
            " [ 3.5 -3.9]\n",
            " [ 3.9 -2.7]\n",
            " [ 1.  -5.6]\n",
            " [-2.3 -9.1]]\n",
            "[  1.1  -0.4   1.2  -4.6 -11.4]\n",
            "[ True False  True False False]\n"
          ],
          "name": "stdout"
        }
      ]
    },
    {
      "cell_type": "code",
      "metadata": {
        "id": "K1S6wT9eOaPL",
        "colab_type": "code",
        "colab": {}
      },
      "source": [
        "s = int(x.shape[0]*0.6)\n",
        "train_x, test_x = x[:s], x[s:]\n",
        "train_y, test_y = y[:s], y[s:]"
      ],
      "execution_count": 0,
      "outputs": []
    },
    {
      "cell_type": "code",
      "metadata": {
        "id": "NYmuetp4COvQ",
        "colab_type": "code",
        "colab": {
          "base_uri": "https://localhost:8080/",
          "height": 584
        },
        "outputId": "92c220c2-d56b-468b-d507-6a4f9ec1abf8"
      },
      "source": [
        "\n",
        "from tensorflow.keras import optimizers\n",
        "from tensorflow.keras.layers import Dense\n",
        "\n",
        "model1 = keras.Sequential()\n",
        "model1.add(Dense(10, activation='tanh', input_shape=(2,)))\n",
        "model1.add(Dense(10, activation='tanh'))\n",
        "model1.add(Dense(10, activation='tanh'))\n",
        "model1.add(Dense(10, activation='tanh'))\n",
        "model1.add(Dense(1))\n",
        "\n",
        "model1.compile(optimizer=\"SGD\", loss=\"mse\", metrics=[\"mse\"])\n",
        "model1.summary()\n",
        "\n",
        "start = time.time()\n",
        "model1.fit(train_x, train_y, epochs=1000*10, verbose=0, batch_size=128)\n",
        "print(\"elapsed :\", (time.time() - start))\n",
        "\n",
        "              \n",
        "y_ = model.predict(test_x)\n",
        "\n",
        "plt.scatter(z[s:],test_y)\n",
        "plt.scatter(z[s:],y_, color=\"r\")\n",
        "plt.show()\n"
      ],
      "execution_count": 42,
      "outputs": [
        {
          "output_type": "stream",
          "text": [
            "Model: \"sequential_21\"\n",
            "_________________________________________________________________\n",
            "Layer (type)                 Output Shape              Param #   \n",
            "=================================================================\n",
            "dense_84 (Dense)             (None, 10)                30        \n",
            "_________________________________________________________________\n",
            "dense_85 (Dense)             (None, 10)                110       \n",
            "_________________________________________________________________\n",
            "dense_86 (Dense)             (None, 10)                110       \n",
            "_________________________________________________________________\n",
            "dense_87 (Dense)             (None, 10)                110       \n",
            "_________________________________________________________________\n",
            "dense_88 (Dense)             (None, 1)                 11        \n",
            "=================================================================\n",
            "Total params: 371\n",
            "Trainable params: 371\n",
            "Non-trainable params: 0\n",
            "_________________________________________________________________\n",
            "elapsed : 32.06455063819885\n"
          ],
          "name": "stdout"
        },
        {
          "output_type": "display_data",
          "data": {
            "image/png": "[encoded data removed]",
            "text/plain": [
              "<Figure size 432x288 with 1 Axes>"
            ]
          },
          "metadata": {
            "tags": []
          }
        }
      ]
    },
    {
      "cell_type": "markdown",
      "metadata": {
        "id": "R3xLjMCyNDtj",
        "colab_type": "text"
      },
      "source": [
        "## 모델 구조 변경\n",
        "\n",
        "중간의 노드가 1개인 은닉층을 추가"
      ]
    },
    {
      "cell_type": "code",
      "metadata": {
        "id": "wOdgrVaUNEJ8",
        "colab_type": "code",
        "colab": {
          "base_uri": "https://localhost:8080/",
          "height": 618
        },
        "outputId": "b33471cf-a6c4-449b-f56d-ed6fa9456eb2"
      },
      "source": [
        "from tensorflow.keras import optimizers\n",
        "from tensorflow.keras.layers import Dense\n",
        "\n",
        "model2 = keras.Sequential()\n",
        "model2.add(Dense(10, activation='tanh', input_shape=(2,)))\n",
        "model2.add(Dense(10, activation='tanh'))\n",
        "model2.add(Dense(1))                     # ADD\n",
        "model2.add(Dense(10, activation='tanh'))\n",
        "model2.add(Dense(10, activation='tanh'))\n",
        "model2.add(Dense(1))\n",
        "\n",
        "model2.compile(optimizer=\"SGD\", loss=\"mse\", metrics=[\"mse\"])\n",
        "model2.summary()\n",
        "\n",
        "start = time.time()\n",
        "model2.fit(train_x, train_y, epochs=1000*10, verbose=0, batch_size=128)\n",
        "print(\"elapsed :\", (time.time() - start))\n",
        "\n",
        "              \n",
        "y_ = model2.predict(test_x)\n",
        "\n",
        "plt.scatter(z[s:],test_y)\n",
        "plt.scatter(z[s:],y_, color=\"r\")\n",
        "plt.show()\n"
      ],
      "execution_count": 44,
      "outputs": [
        {
          "output_type": "stream",
          "text": [
            "Model: \"sequential_22\"\n",
            "_________________________________________________________________\n",
            "Layer (type)                 Output Shape              Param #   \n",
            "=================================================================\n",
            "dense_89 (Dense)             (None, 10)                30        \n",
            "_________________________________________________________________\n",
            "dense_90 (Dense)             (None, 10)                110       \n",
            "_________________________________________________________________\n",
            "dense_91 (Dense)             (None, 1)                 11        \n",
            "_________________________________________________________________\n",
            "dense_92 (Dense)             (None, 10)                20        \n",
            "_________________________________________________________________\n",
            "dense_93 (Dense)             (None, 10)                110       \n",
            "_________________________________________________________________\n",
            "dense_94 (Dense)             (None, 1)                 11        \n",
            "=================================================================\n",
            "Total params: 292\n",
            "Trainable params: 292\n",
            "Non-trainable params: 0\n",
            "_________________________________________________________________\n",
            "elapsed : 32.75246524810791\n"
          ],
          "name": "stdout"
        },
        {
          "output_type": "display_data",
          "data": {
            "image/png": "[encoded data removed]",
            "text/plain": [
              "<Figure size 432x288 with 1 Axes>"
            ]
          },
          "metadata": {
            "tags": []
          }
        }
      ]
    },
    {
      "cell_type": "markdown",
      "metadata": {
        "id": "KBhwkglsOC6Q",
        "colab_type": "text"
      },
      "source": [
        "## y = ( x > 0 ) 함수\n"
      ]
    },
    {
      "cell_type": "code",
      "metadata": {
        "id": "ZEl3gk1VORGl",
        "colab_type": "code",
        "colab": {}
      },
      "source": [
        "s = int(x.shape[0]*0.6)\n",
        "train_x, test_x = z[:s], z[s:] # z = x1 + x2\n",
        "train_y, test_y = y[:s], y[s:]"
      ],
      "execution_count": 0,
      "outputs": []
    },
    {
      "cell_type": "code",
      "metadata": {
        "id": "khs7ZKNVOFCw",
        "colab_type": "code",
        "colab": {
          "base_uri": "https://localhost:8080/",
          "height": 517
        },
        "outputId": "fcdeb9dc-aede-4f59-e288-5c4fbb26e683"
      },
      "source": [
        "from tensorflow.keras import optimizers\n",
        "from tensorflow.keras.layers import Dense\n",
        "\n",
        "model3 = keras.Sequential()\n",
        "model3.add(Dense(10, activation='tanh', input_shape=(1,)))\n",
        "model3.add(Dense(10, activation='tanh'))\n",
        "model3.add(Dense(1))\n",
        "\n",
        "model3.compile(optimizer=\"SGD\", loss=\"mse\", metrics=[\"mse\"])\n",
        "model3.summary()\n",
        "\n",
        "start = time.time()\n",
        "model.fit(train_x, train_y, epochs=1000*10, verbose=0, batch_size=128)\n",
        "print(\"elapsed :\", (time.time() - start))\n",
        "\n",
        "              \n",
        "y_ = model3.predict(test_x)\n",
        "\n",
        "plt.scatter(test_x,test_y)\n",
        "plt.scatter(test_x,y_, color=\"r\")\n",
        "plt.show()\n"
      ],
      "execution_count": 49,
      "outputs": [
        {
          "output_type": "stream",
          "text": [
            "Model: \"sequential_25\"\n",
            "_________________________________________________________________\n",
            "Layer (type)                 Output Shape              Param #   \n",
            "=================================================================\n",
            "dense_101 (Dense)            (None, 10)                20        \n",
            "_________________________________________________________________\n",
            "dense_102 (Dense)            (None, 10)                110       \n",
            "_________________________________________________________________\n",
            "dense_103 (Dense)            (None, 1)                 11        \n",
            "=================================================================\n",
            "Total params: 141\n",
            "Trainable params: 141\n",
            "Non-trainable params: 0\n",
            "_________________________________________________________________\n",
            "elapsed : 31.16512703895569\n"
          ],
          "name": "stdout"
        },
        {
          "output_type": "display_data",
          "data": {
            "image/png": "[encoded data removed]",
            "text/plain": [
              "<Figure size 432x288 with 1 Axes>"
            ]
          },
          "metadata": {
            "tags": []
          }
        }
      ]
    },
    {
      "cell_type": "markdown",
      "metadata": {
        "id": "C_uXZAIYP6zS",
        "colab_type": "text"
      },
      "source": [
        "## 학습된 모델과 결합한 새로운 모델\n",
        "\n"
      ]
    },
    {
      "cell_type": "markdown",
      "metadata": {
        "id": "by4_5TjoQCGr",
        "colab_type": "text"
      },
      "source": [
        "앞에서 학습한 y = (x>0) 모델을 last_half_model로 하고,\n",
        "그 앞에 다른 새 모델을 추가하여 전체 모델을 구성\n",
        "\n",
        "\n",
        "model = first_half_model + last_half_model"
      ]
    },
    {
      "cell_type": "code",
      "metadata": {
        "id": "fcd7HzD3OE8F",
        "colab_type": "code",
        "colab": {}
      },
      "source": [
        "last_half_model = model3"
      ],
      "execution_count": 0,
      "outputs": []
    },
    {
      "cell_type": "code",
      "metadata": {
        "id": "BTkslE6-PeWX",
        "colab_type": "code",
        "colab": {}
      },
      "source": [
        "s = int(x.shape[0]*0.6)\n",
        "train_x, test_x = x[:s], x[s:]\n",
        "train_y, test_y = y[:s], y[s:]"
      ],
      "execution_count": 0,
      "outputs": []
    },
    {
      "cell_type": "code",
      "metadata": {
        "id": "pvGfxSJMOEzM",
        "colab_type": "code",
        "colab": {
          "base_uri": "https://localhost:8080/",
          "height": 483
        },
        "outputId": "83bfcd2d-25f2-4382-c50a-0fbb43b3d241"
      },
      "source": [
        "from tensorflow.keras import optimizers\n",
        "from tensorflow.keras.layers import Dense\n",
        "\n",
        "first_half_model = keras.Sequential()\n",
        "first_half_model.add(Dense(10, activation='tanh', input_shape=(2,)))\n",
        "first_half_model.add(Dense(10, activation='tanh'))\n",
        "first_half_model.add(Dense(1))\n",
        "\n",
        "last_half_model.trainable = False\n",
        "\n",
        "model4 = keras.Sequential()\n",
        "model4.add(first_half_model)\n",
        "model4.add(last_half_model)\n",
        "\n",
        "\n",
        "model4.compile(optimizer=\"SGD\", loss=\"mse\", metrics=[\"mse\"])\n",
        "model4.summary()\n",
        "\n",
        "start = time.time()\n",
        "model4.fit(train_x, train_y, epochs=1000*10, verbose=0, batch_size=128)\n",
        "print(\"elapsed :\", (time.time() - start))\n",
        "\n",
        "              \n",
        "y_ = model4.predict(test_x)\n",
        "\n",
        "plt.scatter(z[s:],test_y)\n",
        "plt.scatter(z[s:],y_, color=\"r\")\n",
        "plt.show()\n"
      ],
      "execution_count": 54,
      "outputs": [
        {
          "output_type": "stream",
          "text": [
            "Model: \"sequential_29\"\n",
            "_________________________________________________________________\n",
            "Layer (type)                 Output Shape              Param #   \n",
            "=================================================================\n",
            "sequential_28 (Sequential)   (None, 1)                 151       \n",
            "_________________________________________________________________\n",
            "sequential_25 (Sequential)   (None, 1)                 141       \n",
            "=================================================================\n",
            "Total params: 292\n",
            "Trainable params: 151\n",
            "Non-trainable params: 141\n",
            "_________________________________________________________________\n",
            "elapsed : 33.024815797805786\n"
          ],
          "name": "stdout"
        },
        {
          "output_type": "display_data",
          "data": {
            "image/png": "[encoded data removed]",
            "text/plain": [
              "<Figure size 432x288 with 1 Axes>"
            ]
          },
          "metadata": {
            "tags": []
          }
        }
      ]
    },
    {
      "cell_type": "markdown",
      "metadata": {
        "id": "NM1s8NXgQpS_",
        "colab_type": "text"
      },
      "source": [
        "## first_half_model 결과 확인\n"
      ]
    },
    {
      "cell_type": "code",
      "metadata": {
        "id": "vPOr3JW_RJq4",
        "colab_type": "code",
        "colab": {
          "base_uri": "https://localhost:8080/",
          "height": 34
        },
        "outputId": "af7ada62-2f47-41b3-9283-168fb5655f7c"
      },
      "source": [
        "print(np.asarray([1,3]))"
      ],
      "execution_count": 57,
      "outputs": [
        {
          "output_type": "stream",
          "text": [
            "[1 3]\n"
          ],
          "name": "stdout"
        }
      ]
    },
    {
      "cell_type": "code",
      "metadata": {
        "id": "PEWSH8LKQnyd",
        "colab_type": "code",
        "colab": {
          "base_uri": "https://localhost:8080/",
          "height": 151
        },
        "outputId": "2e89880a-e1f9-4ceb-aad9-cba55578d7d4"
      },
      "source": [
        "i = np.asarray([[-1,0]])\n",
        "print(i, first_half_model.predict(i))\n",
        "\n",
        "i = np.asarray([[-1,2]])\n",
        "print(i, first_half_model.predict(i))\n",
        "\n",
        "i = np.asarray([[-2,0]])\n",
        "print(i, first_half_model.predict(i))\n",
        "\n",
        "i = np.asarray([[-1,1.5]])\n",
        "print(i, first_half_model.predict(i))\n",
        "\n",
        "i = np.asarray([[-1,0.5]])\n",
        "print(i, first_half_model.predict(i))\n",
        "\n",
        "i = np.asarray([[-1.5,0]])\n",
        "print(i, first_half_model.predict(i))\n",
        "\n",
        "i = np.asarray([[-1.5,0.5]])\n",
        "print(i, first_half_model.predict(i))\n",
        "\n",
        "i = np.asarray([[-1.5,2.0]])\n",
        "print(i, first_half_model.predict(i))"
      ],
      "execution_count": 63,
      "outputs": [
        {
          "output_type": "stream",
          "text": [
            "[[-1  0]] [[-0.75997394]]\n",
            "[[-1  2]] [[1.081697]]\n",
            "[[-2  0]] [[-0.9913835]]\n",
            "[[-1.   1.5]] [[0.7069792]]\n",
            "[[-1.   0.5]] [[-0.3517931]]\n",
            "[[-1.5  0. ]] [[-0.91625816]]\n",
            "[[-1.5  0.5]] [[-0.72799045]]\n",
            "[[-1.5  2. ]] [[0.6531817]]\n"
          ],
          "name": "stdout"
        }
      ]
    },
    {
      "cell_type": "markdown",
      "metadata": {
        "id": "QwpNQyHjTJgm",
        "colab_type": "text"
      },
      "source": [
        "first_half_model은 합한 결과의 음양을 보전하는 값을 출력한다.\n"
      ]
    },
    {
      "cell_type": "markdown",
      "metadata": {
        "id": "oCU7ugFGU0Sz",
        "colab_type": "text"
      },
      "source": [
        "## 고찰\n",
        "\n",
        "\n",
        "- model1 : 두수를 합하여 음양을 구분하는 함수\n",
        "\n",
        "- model2 : model1과 동일한데 중간에 노드가 1개인 은닉층 추가\n",
        "\n",
        "- model3 : 음양 구분 함수\n",
        "\n",
        "- model4 : model3을 뒤에 두고 새로운 앞 부분만 학습한\n",
        "\n",
        "<br>\n",
        "\n",
        "model4와 model2는 구조적으로 완벽하게 동일하다.\n",
        "\n",
        "그런데 model4의 뒷부분은 응양만 구분한다. 그렇다면 model4의 앞부분 first_half_model은 입력 두수를 합하고 음양만 보전하는 함수이다.\n",
        "\n",
        "<br>\n",
        "\n",
        "기존에는 원하는 출력과 실제 출력 간의 차이를 rms나 cross entropy를 cost function 사용하여 그 차이가 최소로 되도록 모델을 학습하게 하였다.\n",
        "\n",
        "이렇게 cost function을 사용하여 학습이 학습되는 방향을 설정해 준다. 이를 수식으로 표현한다. 혹은 다른 모델을 사용하여 학습의 방향을 설정해 준다.\n",
        "\n",
        "\n"
      ]
    },
    {
      "cell_type": "code",
      "metadata": {
        "id": "9NxRNz08Qnu5",
        "colab_type": "code",
        "colab": {}
      },
      "source": [
        ""
      ],
      "execution_count": 0,
      "outputs": []
    }
  ]
}